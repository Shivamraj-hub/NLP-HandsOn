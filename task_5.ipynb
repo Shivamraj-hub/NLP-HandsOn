{
 "cells": [
  {
   "cell_type": "code",
   "execution_count": 1,
   "metadata": {},
   "outputs": [],
   "source": [
    "import sklearn"
   ]
  },
  {
   "cell_type": "code",
   "execution_count": 2,
   "metadata": {},
   "outputs": [],
   "source": [
    "from sklearn.feature_extraction.text import CountVectorizer\n",
    "vect = CountVectorizer(binary = True)\n"
   ]
  },
  {
   "cell_type": "code",
   "execution_count": 3,
   "metadata": {},
   "outputs": [
    {
     "data": {
      "text/plain": [
       "CountVectorizer(binary=True)"
      ]
     },
     "execution_count": 3,
     "metadata": {},
     "output_type": "execute_result"
    }
   ],
   "source": [
    "corpus = [\"I have a german shephard\",\"German Shephard is from Germany\", \"Germans love Gossiping\"]\n",
    "vect.fit(corpus)"
   ]
  },
  {
   "cell_type": "code",
   "execution_count": 4,
   "metadata": {},
   "outputs": [],
   "source": [
    "vocab = vect.vocabulary_"
   ]
  },
  {
   "cell_type": "code",
   "execution_count": 5,
   "metadata": {},
   "outputs": [
    {
     "name": "stdout",
     "output_type": "stream",
     "text": [
      "from:0\n",
      "german:1\n",
      "germans:2\n",
      "germany:3\n",
      "gossiping:4\n",
      "have:5\n",
      "is:6\n",
      "love:7\n",
      "shephard:8\n"
     ]
    }
   ],
   "source": [
    "for key in sorted(vocab.keys()):\n",
    "    print(\"{}:{}\".format(key,vocab[key]))"
   ]
  },
  {
   "cell_type": "code",
   "execution_count": 6,
   "metadata": {},
   "outputs": [
    {
     "data": {
      "text/plain": [
       "array([[0, 1, 0, 1, 0, 0, 0, 0, 1]])"
      ]
     },
     "execution_count": 6,
     "metadata": {},
     "output_type": "execute_result"
    }
   ],
   "source": [
    "vect.transform([\"Germany has German Shephard\"]).toarray()"
   ]
  },
  {
   "cell_type": "code",
   "execution_count": 8,
   "metadata": {},
   "outputs": [],
   "source": [
    "from sklearn.metrics.pairwise import cosine_similarity\n",
    "similarity = cosine_similarity(vect.transform([\"Germany has German SHephard\"]).toarray(), \n",
    "                               vect.transform([\"Germany has Berlin as Capital\"]).toarray())"
   ]
  },
  {
   "cell_type": "code",
   "execution_count": 9,
   "metadata": {},
   "outputs": [
    {
     "name": "stdout",
     "output_type": "stream",
     "text": [
      "[[0.57735027]]\n"
     ]
    }
   ],
   "source": [
    "print(similarity)"
   ]
  },
  {
   "cell_type": "code",
   "execution_count": 10,
   "metadata": {},
   "outputs": [],
   "source": [
    "from sklearn.feature_extraction.text import TfidfVectorizer\n",
    "tfidf = TfidfVectorizer(binary=True)"
   ]
  },
  {
   "cell_type": "code",
   "execution_count": 11,
   "metadata": {},
   "outputs": [
    {
     "data": {
      "text/plain": [
       "TfidfVectorizer(binary=True)"
      ]
     },
     "execution_count": 11,
     "metadata": {},
     "output_type": "execute_result"
    }
   ],
   "source": [
    "tfidf.fit(corpus)"
   ]
  },
  {
   "cell_type": "code",
   "execution_count": 12,
   "metadata": {},
   "outputs": [],
   "source": [
    "voc = tfidf.vocabulary_"
   ]
  },
  {
   "cell_type": "code",
   "execution_count": 13,
   "metadata": {},
   "outputs": [
    {
     "name": "stdout",
     "output_type": "stream",
     "text": [
      "from:0\n",
      "german:1\n",
      "germans:2\n",
      "germany:3\n",
      "gossiping:4\n",
      "have:5\n",
      "is:6\n",
      "love:7\n",
      "shephard:8\n"
     ]
    }
   ],
   "source": [
    "for key in sorted(voc.keys()):\n",
    "    print(\"{}:{}\".format(key,voc[key]))"
   ]
  },
  {
   "cell_type": "code",
   "execution_count": 13,
   "metadata": {},
   "outputs": [],
   "source": [
    "#create a corpus of first paragraphs of \n",
    "\n",
    "from sklearn.metrics.pairwise import cosine_similarity\n",
    "corpus=[\"It is hot near the banks. A shipment of beer has arrived. The babu, quite pink under the sweltering sun, has the shipments offloaded and opened and sniffs at a keg for inspection. It smells vile — acidic and almost like whey. It cannot be drinkable. He takes a careful sip only to spew it out… The sweltering humid Kolkata climate necessitates beer for his men. But where is the beer?! What is this inhospitable climate and land without even a decent pint of beer?\"]"
   ]
  },
  {
   "cell_type": "code",
   "execution_count": 14,
   "metadata": {},
   "outputs": [],
   "source": [
    "from sklearn.feature_extraction.text import TfidfVectorizer\n",
    "vect=TfidfVectorizer(binary=True)"
   ]
  },
  {
   "cell_type": "code",
   "execution_count": 15,
   "metadata": {},
   "outputs": [
    {
     "data": {
      "text/plain": [
       "TfidfVectorizer(binary=True)"
      ]
     },
     "execution_count": 15,
     "metadata": {},
     "output_type": "execute_result"
    }
   ],
   "source": [
    "vect.fit(corpus)"
   ]
  },
  {
   "cell_type": "code",
   "execution_count": 16,
   "metadata": {},
   "outputs": [],
   "source": [
    "vocab=vect.vocabulary_"
   ]
  },
  {
   "cell_type": "code",
   "execution_count": 17,
   "metadata": {},
   "outputs": [
    {
     "name": "stdout",
     "output_type": "stream",
     "text": [
      "acidic:0\n",
      "almost:1\n",
      "and:2\n",
      "arrived:3\n",
      "at:4\n",
      "babu:5\n",
      "banks:6\n",
      "be:7\n",
      "beer:8\n",
      "but:9\n",
      "cannot:10\n",
      "careful:11\n",
      "climate:12\n",
      "decent:13\n",
      "drinkable:14\n",
      "even:15\n",
      "for:16\n",
      "has:17\n",
      "he:18\n",
      "his:19\n",
      "hot:20\n",
      "humid:21\n",
      "inhospitable:22\n",
      "inspection:23\n",
      "is:24\n",
      "it:25\n",
      "keg:26\n",
      "kolkata:27\n",
      "land:28\n",
      "like:29\n",
      "men:30\n",
      "near:31\n",
      "necessitates:32\n",
      "of:33\n",
      "offloaded:34\n",
      "only:35\n",
      "opened:36\n",
      "out:37\n",
      "pink:38\n",
      "pint:39\n",
      "quite:40\n",
      "shipment:41\n",
      "shipments:42\n",
      "sip:43\n",
      "smells:44\n",
      "sniffs:45\n",
      "spew:46\n",
      "sun:47\n",
      "sweltering:48\n",
      "takes:49\n",
      "the:50\n",
      "this:51\n",
      "to:52\n",
      "under:53\n",
      "vile:54\n",
      "what:55\n",
      "where:56\n",
      "whey:57\n",
      "without:58\n"
     ]
    }
   ],
   "source": [
    "for key in sorted(vocab.keys()):\n",
    "    print(\"{}:{}\".format(key,vocab[key]))"
   ]
  },
  {
   "cell_type": "code",
   "execution_count": 18,
   "metadata": {},
   "outputs": [
    {
     "data": {
      "text/plain": [
       "array([[0.66143783]])"
      ]
     },
     "execution_count": 18,
     "metadata": {},
     "output_type": "execute_result"
    }
   ],
   "source": [
    "from sklearn.metrics.pairwise import cosine_similarity\n",
    "st1 = \"He always finds the right place to have chicken-rice and chai, even if it means checking out a few places, shaking his head disapprovingly and showing me back to the car. He has solemnly refused to take me to just any saree emporium in Kolkata to buy one for my mother. “After all it’s your mother, sir,” he reminds me, with the same authoritative fervour that he reserves for voicing his opinion on the right time to eat ilish. Even if I tried, I couldn’t have found a better guy to drive me to Kolkata than Robin Mandal. So when he pulls over at a mishtir dokan to realise my precious plan to take home a box of fragrant makha sandesh, I follow his assured self like a smitten Pavlovian creature to the little establishment.\"\n",
    "st2 = \"Satkosia? That’s a three-hour-long drive from here,” the hotel concierge alerts me. Just back from a full day at the Sun Temple at Konark, we’re hunched over his desk, chalking out Day 2 of an ambitious Bhubaneswar bucket list. I assure him that we can start right after breakfast. And so, precisely at 8.30 a.m. the next day, our chauffeured vehicle flags off for a pleasant drive away from the busy roads of Odisha’s capital into the outskirts. We pass sleepy villages with thatched huts, paddy fields hemmed by palm groves and herds of meek cows claiming the first right of way.\"\n",
    "similarity=cosine_similarity(vect.transform([st1]).toarray(),vect.transform([st2]).toarray())\n",
    "similarity"
   ]
  },
  {
   "cell_type": "code",
   "execution_count": null,
   "metadata": {},
   "outputs": [],
   "source": []
  }
 ],
 "metadata": {
  "kernelspec": {
   "display_name": "Python 3",
   "language": "python",
   "name": "python3"
  },
  "language_info": {
   "codemirror_mode": {
    "name": "ipython",
    "version": 3
   },
   "file_extension": ".py",
   "mimetype": "text/x-python",
   "name": "python",
   "nbconvert_exporter": "python",
   "pygments_lexer": "ipython3",
   "version": "3.8.3"
  }
 },
 "nbformat": 4,
 "nbformat_minor": 4
}
